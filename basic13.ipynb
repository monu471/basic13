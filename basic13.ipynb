{
 "cells": [
  {
   "cell_type": "markdown",
   "id": "6c99be00",
   "metadata": {},
   "source": [
    "### 1. What advantages do Excel spreadsheets have over CSV spreadsheets?"
   ]
  },
  {
   "cell_type": "markdown",
   "id": "f6bdf1b5",
   "metadata": {},
   "source": [
    "Excel spreadsheets offer several advantages over CSV (Comma-Separated Values) spreadsheets:\n",
    "\n",
    "1. Data Formatting: Excel allows for formatting options such as cell colors, fonts, number formats, borders, and conditional formatting. This makes it easier to present and interpret data visually.\n",
    "\n",
    "2. Formulas and Functions: Excel provides a wide range of built-in formulas and functions that allow you to perform calculations, data analysis, and complex operations on your data. This can save time and effort compared to manually performing calculations with CSV data.\n",
    "\n",
    "3. Multiple Sheets: Excel supports multiple sheets within a single workbook, allowing you to organize and structure your data across different tabs. This makes it convenient to work with large amounts of data or create separate sheets for different purposes.\n",
    "\n",
    "4. Data Validation: Excel provides data validation features, enabling you to define rules and restrictions on the input data. This helps maintain data integrity and consistency by preventing invalid or incorrect entries.\n",
    "\n",
    "5. Charts and Graphs: Excel offers a wide range of chart types and graphing capabilities. You can easily create visually appealing charts and graphs to visualize data trends and relationships.\n",
    "\n",
    "6. Data Sorting and Filtering: Excel provides powerful sorting and filtering options, allowing you to quickly organize and analyze data based on specific criteria. You can sort data in ascending or descending order, apply filters to show or hide specific data, and perform advanced filtering operations.\n",
    "\n",
    "7. Collaboration and Sharing: Excel supports collaboration features that enable multiple users to work on the same spreadsheet simultaneously. You can track changes, add comments, and share the workbook with others, facilitating teamwork and collaboration.\n",
    "\n",
    "8. Data Analysis Add-Ins: Excel offers various add-ins and extensions, such as Power Query, Power Pivot, and Data Analysis ToolPak, that enhance data analysis capabilities. These tools provide advanced data manipulation, transformation, and analysis features.\n",
    "\n",
    "While CSV files are simple and widely compatible, Excel provides a richer set of features and functionalities that are beneficial for data analysis, reporting, visualization, and collaboration."
   ]
  },
  {
   "cell_type": "markdown",
   "id": "53523584",
   "metadata": {},
   "source": [
    "### 2.What do you pass to csv.reader() and csv.writer() to create reader and writer objects?"
   ]
  },
  {
   "cell_type": "markdown",
   "id": "24b4ef9f",
   "metadata": {},
   "source": [
    "```\n",
    "import csv\n",
    "\n",
    "# Creating a reader object\n",
    "with open('data.csv', 'r') as file:\n",
    "    reader = csv.reader(file)\n",
    "    # Use the reader object to read CSV data\n",
    "\n",
    "# Creating a writer object\n",
    "with open('output.csv', 'w', newline='') as file:\n",
    "    writer = csv.writer(file)\n",
    "    # Use the writer object to write CSV data\n",
    "\n",
    "```"
   ]
  },
  {
   "cell_type": "markdown",
   "id": "34dcfc1f",
   "metadata": {},
   "source": [
    "### 3. What modes do File objects for reader and writer objects need to be opened in?"
   ]
  },
  {
   "cell_type": "markdown",
   "id": "af365fd0",
   "metadata": {},
   "source": [
    "for reading = \"r\"\n",
    "for writing = \"w\""
   ]
  },
  {
   "cell_type": "markdown",
   "id": "c94ffdbc",
   "metadata": {},
   "source": [
    "### 4. What method takes a list argument and writes it to a CSV file?"
   ]
  },
  {
   "cell_type": "code",
   "execution_count": 10,
   "id": "1b7c98b0",
   "metadata": {},
   "outputs": [],
   "source": [
    "import csv\n",
    "with open(\"file3.csv\",\"w\") as f:\n",
    "    content = [\"my name is monu joshi\"]\n",
    "               \n",
    "    writer = csv.writer(f)\n",
    "    writer.writerow(content)"
   ]
  },
  {
   "cell_type": "code",
   "execution_count": 11,
   "id": "d030ce6a",
   "metadata": {},
   "outputs": [],
   "source": [
    "data = [\n",
    "        ['John', 25, 'USA'],\n",
    "        ['Alice', 30, 'Canada'],\n",
    "        ['Bob', 35, 'UK']\n",
    "    ]"
   ]
  },
  {
   "cell_type": "code",
   "execution_count": 14,
   "id": "dce7e01d",
   "metadata": {},
   "outputs": [],
   "source": [
    "with open(\"multline.csv\",\"w\",newline=\"\") as f:\n",
    "    writer = csv.writer(f)\n",
    "    writer.writerows(data)"
   ]
  },
  {
   "cell_type": "markdown",
   "id": "973bf6f4",
   "metadata": {},
   "source": [
    "### 5. What do the keyword arguments delimiter and line terminator do?"
   ]
  },
  {
   "cell_type": "code",
   "execution_count": 15,
   "id": "1a708ac8",
   "metadata": {},
   "outputs": [],
   "source": [
    "import csv\n",
    "\n",
    "with open('file1.csv', 'w', newline='') as f:\n",
    "    writer = csv.writer(f, delimiter='\\t')  # Tab-delimited CSV\n",
    "    writer.writerow(['Name', 'Age', 'Country'])\n",
    "    writer.writerow(['John', 25, 'USA'])\n",
    "    writer.writerow(['Alice', 30, 'Canada'])\n",
    "    writer.writerow(['Bob', 35, 'UK'])\n"
   ]
  },
  {
   "cell_type": "code",
   "execution_count": 16,
   "id": "e341bb18",
   "metadata": {},
   "outputs": [],
   "source": [
    "import csv\n",
    "\n",
    "with open('file123.csv', 'w', newline='') as f:\n",
    "    writer = csv.writer(f, lineterminator='\\r\\n')  # Windows-style line terminator\n",
    "    writer.writerow(['Name', 'Age', 'Country'])\n",
    "    writer.writerow(['John', 25, 'USA'])\n",
    "    writer.writerow(['Alice', 30, 'Canada'])\n",
    "    writer.writerow(['Bob', 35, 'UK'])\n"
   ]
  },
  {
   "cell_type": "markdown",
   "id": "81c83d91",
   "metadata": {},
   "source": [
    "### 6. What function takes a string of JSON data and returns a Python data structure?"
   ]
  },
  {
   "cell_type": "code",
   "execution_count": 17,
   "id": "4e5b2e8e",
   "metadata": {},
   "outputs": [
    {
     "name": "stdout",
     "output_type": "stream",
     "text": [
      "{'name': 'John', 'age': 30, 'country': 'USA'}\n"
     ]
    }
   ],
   "source": [
    "import json\n",
    "\n",
    "json_data = '{\"name\": \"John\", \"age\": 30, \"country\": \"USA\"}'\n",
    "\n",
    "python_data = json.loads(json_data)\n",
    "\n",
    "print(python_data)\n"
   ]
  },
  {
   "cell_type": "markdown",
   "id": "7c7d1e95",
   "metadata": {},
   "source": [
    "### 7. What function takes a Python data structure and returns a string of JSON data?"
   ]
  },
  {
   "cell_type": "markdown",
   "id": "32c49146",
   "metadata": {},
   "source": [
    "import json\n",
    "\n",
    "python_data = {\n",
    "    \"name\": \"John\",\n",
    "    \"age\": 30,\n",
    "    \"country\": \"USA\"\n",
    "}\n",
    "\n",
    "json_data = json.dumps(python_data)\n",
    "\n",
    "print(json_data)\n"
   ]
  },
  {
   "cell_type": "code",
   "execution_count": null,
   "id": "2910b86f",
   "metadata": {},
   "outputs": [],
   "source": []
  }
 ],
 "metadata": {
  "kernelspec": {
   "display_name": "Python 3 (ipykernel)",
   "language": "python",
   "name": "python3"
  },
  "language_info": {
   "codemirror_mode": {
    "name": "ipython",
    "version": 3
   },
   "file_extension": ".py",
   "mimetype": "text/x-python",
   "name": "python",
   "nbconvert_exporter": "python",
   "pygments_lexer": "ipython3",
   "version": "3.10.9"
  }
 },
 "nbformat": 4,
 "nbformat_minor": 5
}
